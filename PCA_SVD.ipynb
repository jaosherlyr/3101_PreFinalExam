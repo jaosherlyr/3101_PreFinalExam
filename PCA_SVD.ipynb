# Parsing the file
def parse_arff(file_path):
    attributes = []
    data = []

    with open(file_path, 'r') as file:
        in_data_section = False

        for line in file:
            line = line.strip()

            if not line:
                continue

            if line.startswith('%'):
                continue

            if in_data_section:
                data.append(line.split(','))
            else:
                if line.lower().startswith('@attribute'):
                    attribute_name = line.split()[1]
                    attributes.append(attribute_name)
                elif line.lower().startswith('@data'):
                    in_data_section = True

    return attributes, data


arff_file_path = '2020.arff'
attributes, data = parse_arff(arff_file_path)

# Limit to a small dataset for testing
attributes = attributes[:6]
data = [row[:6] for row in data[:5]]

header = " | ".join(attributes)
max_widths = [len(attribute) for attribute in attributes]
for row in data:
    for i, value in enumerate(row):
        max_widths[i] = max(max_widths[i], len(value))

#  print Table
print("\nTable:")
header_str = " | ".join(f"{attr:>{width}}" for attr, width in zip(attributes, max_widths))
print(f"{header_str}")
for row in data:
    row_str = " | ".join(f"{value:>{width}}" for value, width in zip(row, max_widths))
    print(row_str)

#  Calculate Mean
numerical_data = [
    [float(value) if value.lower() != 'm' else None for value in row[2:]]
    for row in data
]

numerical_data = [row for row in numerical_data if all(value is not None for value in row)]

mean_values = [
    sum(filter(None, col)) / len(list(filter(None, col))) if numerical_data else None
    for col in zip(*numerical_data)
]

print("\nMean Values:")
for mean in mean_values:
    print(mean)

#  Center Data
centered_data = [
    [(col - mean) if col is not None else None for col, mean in zip(row, mean_values)]
    for row in numerical_data
]

print("\nCentered Data:")
for row in centered_data:
    print(row)

covariance_matrix = [[0] * len(mean_values) for _ in range(len(mean_values))]

for i in range(len(mean_values)):
    for j in range(len(mean_values)):
        for k in range(len(centered_data)):
            covariance_matrix[i][j] += centered_data[k][i] * centered_data[k][j]

# Normalize by the number of rows
covariance_matrix = [[elem / (len(centered_data) - 1) for elem in row] for row in covariance_matrix]

print("\nCovariance Matrix:")
for matrix in covariance_matrix:
    print(matrix)

def dot_product(v1, v2):
    return sum(x * y for x, y in zip(v1, v2))

def vector_norm(v):
    return sum(x**2 for x in v)**0.5

def matrix_multiplication(matrix1, matrix2):
    result = []
    for i in range(len(matrix1)):
        row = []
        for j in range(len(matrix2[0])):
            element = sum(matrix1[i][k] * matrix2[k][j] for k in range(len(matrix2)))
            row.append(element)
        result.append(row)
    return result

def qr_algorithm(matrix, num_iterations=100):
    n = len(matrix)
    eigenvalues = [matrix[i][i] for i in range(n)]
    eigenvectors = [[1.0 if i == j else 0.0 for j in range(n)] for i in range(n)]

    for _ in range(num_iterations):
        # QR decomposition
        q, r = qr_decomposition(matrix)

        # Update the matrix
        matrix = matrix_multiplication(r, q)

        # Update eigenvectors
        eigenvectors = matrix_multiplication(eigenvectors, q)

    return eigenvalues, eigenvectors

def qr_decomposition(matrix):
    n = len(matrix)
    q = [[0.0] * n for _ in range(n)]
    r = [[0.0] * n for _ in range(n)]

    for j in range(n):
        v = [matrix[i][j] for i in range(j, n)]
        norm_v = vector_norm(v)
        q[j][j] = 1.0
        for i in range(j + 1, n):
            q[i][j] = v[i - j] / norm_v

        for i in range(j, n):
            for k in range(j, n):
                r[i][k] = matrix[i][k] - 2 * q[i][j] * dot_product(q[j], matrix[i])

    return q, r

# Example usage # Replace this with your covariance matrix
eigenvalues, eigenvectors = qr_algorithm(covariance_matrix)

print("\nEigenvalues:", eigenvalues)
print("Eigenvectors:", eigenvectors)


sorted_indices = list(range(len(eigenvalues)))

sorted_indices = sorted(sorted_indices, key=lambda i: eigenvalues[i], reverse=True)

sorted_eigenvalues = [eigenvalues[i] for i in sorted_indices]

sorted_eigenvectors = [eigenvectors[i][:] for i in sorted_indices]

# Printing results
print("\nSorted Eigenvalues:")
print(sorted_eigenvalues)

print("\nSorted Eigenvectors:")
for row in sorted_eigenvectors:
    print(row)

# Assuming sorted_eigenvectors is a list of eigenvectors sorted in descending order
num_selected_eigenvectors = 2

# Select the first two eigenvectors
selected_eigenvectors = []

# Create a new matrix with the selected eigenvectors
for i in range(num_selected_eigenvectors):
    selected_eigenvectors.append(sorted_eigenvectors[i])

# Printing the selected eigenvectors matrix
print("\nSelected Eigenvectors Matrix:")
for row in selected_eigenvectors:
    print(row)

result_matrix = matrix_multiplication(centered_data, selected_eigenvectors)

# Print the result
print("\nResult Matrix:")
for row in result_matrix:
    print(row)